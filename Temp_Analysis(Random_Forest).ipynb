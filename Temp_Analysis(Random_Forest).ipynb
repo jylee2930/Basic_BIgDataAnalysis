{
  "nbformat": 4,
  "nbformat_minor": 0,
  "metadata": {
    "colab": {
      "private_outputs": true,
      "provenance": [],
      "gpuType": "T4",
      "authorship_tag": "ABX9TyPhzfQwc/IZDuFxnJQb8/Bw",
      "include_colab_link": true
    },
    "kernelspec": {
      "name": "python3",
      "display_name": "Python 3"
    },
    "language_info": {
      "name": "python"
    },
    "accelerator": "GPU"
  },
  "cells": [
    {
      "cell_type": "markdown",
      "metadata": {
        "id": "view-in-github",
        "colab_type": "text"
      },
      "source": [
        "<a href=\"https://colab.research.google.com/github/jylee2930/Basic_BIgDataAnalysis/blob/main/Temp_Analysis(Random_Forest).ipynb\" target=\"_parent\"><img src=\"https://colab.research.google.com/assets/colab-badge.svg\" alt=\"Open In Colab\"/></a>"
      ]
    },
    {
      "cell_type": "code",
      "execution_count": null,
      "metadata": {
        "id": "PO_ZpUxOQLXl"
      },
      "outputs": [],
      "source": [
        "import pandas as pd\n",
        "import numpy as np\n",
        "import tensorflow as tf\n",
        "import matplotlib.pyplot as plt\n",
        "import seaborn as sns\n",
        "import random\n",
        "from datetime import datetime, timedelta"
      ]
    },
    {
      "cell_type": "code",
      "source": [
        "tmp = pd.read_csv(\"/content/wonju_temp.csv\")\n",
        "\n",
        "##날짜 데이터를 time_series 형식으로 변환\n",
        "tmp['date'] = pd.to_datetime(tmp['date'], errors='coerce')\n",
        "tmp['day_of_week'] = tmp['date'].dt.dayofweek\n",
        "tmp['month'] = tmp['date'].dt.month\n",
        "tmp['year'] = tmp['date'].dt.year\n",
        "##onehot encoding, 요일별로 컬럼이 생성되며, 머신러닝에서 요일을 범주형으로 활용\n",
        "tmp['day_of_week'] = tmp['day_of_week'].astype('category')\n",
        "tmp = pd.get_dummies(tmp, columns=['day_of_week'], prefix='w', drop_first=True, dtype=int)\n",
        "print(tmp.head(10))\n"
      ],
      "metadata": {
        "id": "4Vx4EesHSUVf"
      },
      "execution_count": null,
      "outputs": []
    },
    {
      "cell_type": "code",
      "source": [
        "fig,axes = plt.subplots(4,1, figsize = (25,20))\n",
        "axes[0].plot(tmp['date'], tmp['mean_tmp'], label = 'mean_tmp')\n",
        "axes[0].set_title(\"Mean_Teampreture\")\n",
        "\n",
        "axes[1].plot(tmp['date'], tmp['min_tmp'],label = 'min_tmp')\n",
        "axes[1].set_title(\"Min_Teampreture\")\n",
        "\n",
        "axes[2].plot(tmp['date'], tmp['max_tmp'],label = 'max_tmp')\n",
        "axes[2].set_title(\"Max_Teampreture\")\n",
        "\n",
        "axes[3].plot(tmp['date'], tmp['mean_tmp'],label = 'mean_tmp')\n",
        "axes[3].plot(tmp['date'], tmp['min_tmp'],label = 'min_tmp')\n",
        "axes[3].plot(tmp['date'], tmp['max_tmp'],label = 'max_tmp')\n",
        "axes[3].set_title(\"Teampreture\")\n",
        "plt.legend()\n",
        "plt.show()"
      ],
      "metadata": {
        "id": "u2obKsWNeE7M"
      },
      "execution_count": null,
      "outputs": []
    },
    {
      "cell_type": "code",
      "source": [
        "from sklearn.preprocessing import StandardScaler, LabelEncoder\n",
        "from sklearn.ensemble import RandomForestRegressor\n",
        "from sklearn.linear_model import LinearRegression\n",
        "from sklearn.metrics import mean_squared_error, r2_score, mean_absolute_error"
      ],
      "metadata": {
        "id": "MBd8LDM7HpvS"
      },
      "execution_count": null,
      "outputs": []
    },
    {
      "cell_type": "code",
      "source": [
        "##평균기온 예측, 평균기온이 타겟데이터 y\n",
        "# 1. 피처 엔지니어링 - 날짜에서 유용한 특성 추출\n",
        "tmp['season'] = tmp['month'].map({12: 'Winter', 1: 'Winter', 2: 'Winter',\n",
        "                                3: 'Spring', 4: 'Spring', 5: 'Spring',\n",
        "                                6: 'Summer', 7: 'Summer', 8: 'Summer',\n",
        "                                9: 'Autumn', 10: 'Autumn', 11: 'Autumn'})\n",
        "\n",
        "# 계절을 숫자로 인코딩\n",
        "season_encoder = LabelEncoder()\n",
        "tmp['season_encoded'] = season_encoder.fit_transform(tmp['season'])\n",
        "print(tmp.head())"
      ],
      "metadata": {
        "id": "uVzn5CdVEnxq"
      },
      "execution_count": null,
      "outputs": []
    },
    {
      "cell_type": "code",
      "source": [
        "# 2. 피처와 타겟 변수 설정\n",
        "# 타겟 변수: mean_tmp (평균기온)\n",
        "# 피처 변수: area, 날짜, 요일\n",
        "# 타겟 변수: mean_tmp (평균기온)\n",
        "# 피처 변수: area, month, year, 요일 더미변수들 (min_tmp, max_tmp 제외)\n",
        "feature_columns = ['area', 'month', 'year', 'w_1.0', 'w_2.0', 'w_3.0', 'w_4.0', 'w_5.0', 'w_6.0']\n",
        "X = tmp[feature_columns]\n",
        "y = tmp['mean_tmp']\n",
        "print(X[:10])\n",
        "print(y[:10])"
      ],
      "metadata": {
        "id": "nbiP1nwDH71L"
      },
      "execution_count": null,
      "outputs": []
    },
    {
      "cell_type": "code",
      "source": [
        "##3. 학습 데이터와 검증 데이터로 구분\n",
        "from sklearn.model_selection import train_test_split\n",
        "\n",
        "# Drop rows with NaN in the target variable\n",
        "tmp_cleaned = tmp.dropna(subset=['mean_tmp'])\n",
        "\n",
        "# Define features and target after dropping NaNs\n",
        "feature_columns = ['area', 'month', 'year', 'w_1.0', 'w_2.0', 'w_3.0', 'w_4.0', 'w_5.0', 'w_6.0']\n",
        "X = tmp_cleaned[feature_columns]\n",
        "y = tmp_cleaned['mean_tmp']\n",
        "\n",
        "# 방법 2: 데이터 분할 (7:3 비율)\n",
        "X_train, X_test, y_train, y_test = train_test_split(\n",
        "    X, y, test_size=0.3, random_state=42, shuffle=True\n",
        ")\n",
        "print(len(X_train))\n",
        "print(len(y_train))"
      ],
      "metadata": {
        "id": "MDn6btCfMXYh"
      },
      "execution_count": null,
      "outputs": []
    },
    {
      "cell_type": "code",
      "source": [
        "from sklearn.ensemble import RandomForestRegressor\n",
        "from sklearn.linear_model import LinearRegression\n",
        "from sklearn.metrics import mean_squared_error, r2_score, mean_absolute_error"
      ],
      "metadata": {
        "id": "9NaRyvrpQF3O"
      },
      "execution_count": null,
      "outputs": []
    },
    {
      "cell_type": "code",
      "source": [
        "##4. Random Forest 모델 생성 및 학습\n",
        "rf_model = RandomForestRegressor(n_estimators=100, random_state=42)\n",
        "rf_model.fit(X_train, y_train)"
      ],
      "metadata": {
        "id": "pIXc1da9Pfvv"
      },
      "execution_count": null,
      "outputs": []
    },
    {
      "cell_type": "code",
      "source": [
        "#5. 예측\n",
        "y_pred = rf_model.predict(X_test)\n",
        "\n",
        "#6. 성능 평가\n",
        "mse = mean_squared_error(y_test, y_pred)\n",
        "rmse = np.sqrt(mse)\n",
        "mae = mean_absolute_error(y_test, y_pred)\n",
        "r2 = r2_score(y_test, y_pred)\n",
        "print(f\"MSE: {mse:.4f}\")\n",
        "print(f\"RMSE: {rmse:.4f}\")\n",
        "print(f\"MAE: {mae:.4f}\")\n",
        "print(f\"R² Score: {r2:.4f}\")"
      ],
      "metadata": {
        "id": "ve7dmMsvRdoY"
      },
      "execution_count": null,
      "outputs": []
    },
    {
      "cell_type": "code",
      "source": [
        "# 7. 모델 결과 저장\n",
        "best_model = rf_model\n",
        "best_predictions = y_pred\n",
        "best_model_name = 'Random Forest'"
      ],
      "metadata": {
        "id": "DVcKlyqSRy0P"
      },
      "execution_count": null,
      "outputs": []
    },
    {
      "cell_type": "code",
      "source": [
        "# 8. 예측 결과 시각화\n",
        "plt.figure(figsize=(12, 5))\n",
        "\n",
        "# 실제값 vs 예측값 산점도\n",
        "plt.subplot(1, 2, 1)\n",
        "plt.scatter(y_test, best_predictions, alpha=0.5)\n",
        "plt.plot([y_test.min(), y_test.max()], [y_test.min(), y_test.max()], 'r--', lw=2)\n",
        "plt.xlabel('Tempreture')\n",
        "plt.ylabel('Predict-tempreture')\n",
        "plt.title('Tempreture vs Preict(Random Forest)')\n",
        "\n",
        "# 잔차 플롯\n",
        "plt.subplot(1, 2, 2)\n",
        "residuals = y_test - best_predictions\n",
        "plt.scatter(best_predictions, residuals, alpha=0.5)\n",
        "plt.axhline(y=0, color='r', linestyle='--')\n",
        "plt.xlabel('Predict')\n",
        "plt.ylabel('Residuals')\n",
        "plt.title('Residual Plot')\n",
        "plt.tight_layout()\n",
        "plt.show()"
      ],
      "metadata": {
        "id": "brCx0eIzRpAS"
      },
      "execution_count": null,
      "outputs": []
    },
    {
      "cell_type": "code",
      "source": [
        "print(X_test[:10])"
      ],
      "metadata": {
        "id": "BunbABASWYtv"
      },
      "execution_count": null,
      "outputs": []
    },
    {
      "cell_type": "code",
      "source": [
        "##예측 데이터와 비교 그래프 그리기\n",
        "## 원본 인덱스를 이용해 날짜 정보 복원\n",
        "test_indices = X_test.index\n",
        "test_dates = tmp.loc[test_indices, 'date']\n",
        "\n",
        "# 날짜순으로 정렬을 위한 데이터프레임 생성\n",
        "comparison_tmp = pd.DataFrame({\n",
        "    'date': test_dates,\n",
        "    'year': X_test['year'],\n",
        "    'month': X_test['month'],\n",
        "    'actual': y_test,\n",
        "    'predicted': best_predictions\n",
        "}).sort_values('date').reset_index(drop=True)\n",
        "residuals =comparison_tmp['actual']-comparison_tmp['predicted']\n",
        "\n",
        "plt.figure(figsize=(15, 10))\n",
        "plt.scatter(comparison_tmp['year'], comparison_tmp['actual'],\n",
        "           alpha=0.6, label='Actual Temperature', s=30, color='blue')\n",
        "plt.scatter(comparison_tmp['year'], comparison_tmp['predicted'],\n",
        "           alpha=0.6, label='Predicted Temperature', s=30, color='red')\n",
        "plt.xlabel('Year')\n",
        "plt.ylabel('Temperature (°C)')\n",
        "plt.title('Comparison: Predicted vs Temperature by Year')\n",
        "plt.legend()\n",
        "plt.grid(True, alpha=0.3)\n",
        "plt.show()\n",
        "\n"
      ],
      "metadata": {
        "id": "PO8N0_WHYOr2"
      },
      "execution_count": null,
      "outputs": []
    },
    {
      "cell_type": "code",
      "source": [
        "#시계열 순서대로 비교 (추천)\n",
        "plt.figure(figsize=(20, 8))\n",
        "plt.plot(comparison_tmp['date'], comparison_tmp['actual'],\n",
        "         label='Actual Temperature', linewidth=2, alpha=0.8)\n",
        "plt.plot(comparison_tmp['date'], comparison_tmp['predicted'],\n",
        "         label='Predicted Temperature', linewidth=2, alpha=0.8, linestyle='--')\n",
        "plt.xlabel('Date')\n",
        "plt.ylabel('Temperature (°C)')\n",
        "plt.title('Time Series: Predicted vs Actual Temperature')\n",
        "plt.legend()\n",
        "plt.grid(True, alpha=0.3)\n",
        "plt.xticks(rotation=45)\n",
        "plt.show()"
      ],
      "metadata": {
        "id": "yfEmRRRIZCZZ"
      },
      "execution_count": null,
      "outputs": []
    },
    {
      "cell_type": "code",
      "source": [
        "plt.figure(figsize=(20, 8))\n",
        "plt.scatter(comparison_tmp['date'], residuals, alpha=0.5)\n",
        "plt.axhline(y=0, color='r', linestyle='--')\n",
        "plt.xlabel('Date(Year)')\n",
        "plt.ylabel('Residuals')\n",
        "plt.title('Residual Plot by Year')\n",
        "plt.tight_layout()\n",
        "plt.show()"
      ],
      "metadata": {
        "id": "FgkT-Ug7bKFy"
      },
      "execution_count": null,
      "outputs": []
    },
    {
      "cell_type": "code",
      "source": [
        "plt.figure(figsize=(20, 8))\n",
        "plt.plot(comparison_tmp['date'], residuals, label='residuals', linewidth=1.5, alpha=0.8)\n",
        "plt.axhline(y=0, color='r', linestyle='--')\n",
        "plt.xlabel('Date(Year)')\n",
        "plt.ylabel('Residuals')\n",
        "plt.title('Residual Plot by Year')\n",
        "plt.legend()\n",
        "plt.show()"
      ],
      "metadata": {
        "id": "DjNzxUZgcfkg"
      },
      "execution_count": null,
      "outputs": []
    }
  ]
}