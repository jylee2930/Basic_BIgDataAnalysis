{
  "nbformat": 4,
  "nbformat_minor": 0,
  "metadata": {
    "colab": {
      "private_outputs": true,
      "provenance": [],
      "gpuType": "T4",
      "authorship_tag": "ABX9TyOC++FrcLJ49a/9DWLBtaW+",
      "include_colab_link": true
    },
    "kernelspec": {
      "name": "python3",
      "display_name": "Python 3"
    },
    "language_info": {
      "name": "python"
    },
    "accelerator": "GPU"
  },
  "cells": [
    {
      "cell_type": "markdown",
      "metadata": {
        "id": "view-in-github",
        "colab_type": "text"
      },
      "source": [
        "<a href=\"https://colab.research.google.com/github/jylee2930/Basic_BIgDataAnalysis/blob/main/Temp_Analysis.ipynb\" target=\"_parent\"><img src=\"https://colab.research.google.com/assets/colab-badge.svg\" alt=\"Open In Colab\"/></a>"
      ]
    },
    {
      "cell_type": "code",
      "execution_count": null,
      "metadata": {
        "id": "PO_ZpUxOQLXl"
      },
      "outputs": [],
      "source": [
        "import pandas as pd\n",
        "import numpy as np\n",
        "import tensorflow as tf\n",
        "import matplotlib.pyplot as plt\n",
        "import seaborn as sns\n",
        "import random\n",
        "from datetime import datetime, timedelta"
      ]
    },
    {
      "cell_type": "code",
      "source": [
        "tmp = pd.read_csv(\"/content/wonju_temp.csv\")\n",
        "\n",
        "##날짜 데이터를 time_series 형식으로 변환\n",
        "tmp['date'] = pd.to_datetime(tmp['date'], errors='coerce')\n",
        "tmp['day_of_week'] = tmp['date'].dt.dayofweek\n",
        "#tmp['month'] = tmp['date'].dt.month\n",
        "#tmp['year'] = tmp['date'].dt.year\n",
        "##onehot encoding, 요일별로 컬럼이 생성되며, 머신러닝에서 요일을 범주형으로 활용\n",
        "tmp['day_of_week'] = tmp['day_of_week'].astype('category')\n",
        "tmp = pd.get_dummies(tmp, columns = ['day_of_week'], prefix='w', drop_first=True)\n",
        "print(tmp.head(10))\n"
      ],
      "metadata": {
        "id": "4Vx4EesHSUVf"
      },
      "execution_count": null,
      "outputs": []
    },
    {
      "cell_type": "code",
      "source": [
        "fig,axes = plt.subplots(4,1, figsize = (25,20))\n",
        "axes[0].plot(tmp['date'], tmp['mean_tmp'], label = 'mean_tmp')\n",
        "axes[0].set_title(\"Mean_Teampreture\")\n",
        "\n",
        "axes[1].plot(tmp['date'], tmp['min_tmp'],label = 'min_tmp')\n",
        "axes[1].set_title(\"Min_Teampreture\")\n",
        "\n",
        "axes[2].plot(tmp['date'], tmp['max_tmp'],label = 'max_tmp')\n",
        "axes[2].set_title(\"Max_Teampreture\")\n",
        "\n",
        "axes[3].plot(tmp['date'], tmp['mean_tmp'],label = 'mean_tmp')\n",
        "axes[3].plot(tmp['date'], tmp['min_tmp'],label = 'min_tmp')\n",
        "axes[3].plot(tmp['date'], tmp['max_tmp'],label = 'max_tmp')\n",
        "axes[3].set_title(\"Teampreture\")\n",
        "plt.legend()\n",
        "plt.show()"
      ],
      "metadata": {
        "id": "u2obKsWNeE7M"
      },
      "execution_count": null,
      "outputs": []
    },
    {
      "cell_type": "code",
      "source": [
        "##학습 데이터와 검증 데이터로 구분\n"
      ],
      "metadata": {
        "id": "czK0-g5xfDgr"
      },
      "execution_count": null,
      "outputs": []
    }
  ]
}